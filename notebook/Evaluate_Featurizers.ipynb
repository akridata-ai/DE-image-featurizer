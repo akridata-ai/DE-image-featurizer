{
  "nbformat": 4,
  "nbformat_minor": 0,
  "metadata": {
    "colab": {
      "provenance": []
    },
    "kernelspec": {
      "name": "python3",
      "display_name": "Python 3"
    },
    "language_info": {
      "name": "python"
    },
    "gpuClass": "standard",
    "accelerator": "GPU"
  },
  "cells": [
    {
      "cell_type": "markdown",
      "source": [
        "[ASKW-13144](https://akridata.atlassian.net/browse/AKSW-13144)\n",
        "\n",
        "This notebook provides the below mentioned functionalities:\n",
        "1. Comparsion of different TF-Hub image featurizers and traditional CV featurizer based on compute-time and KNN score accuracy.\n",
        "2. This notebook also provides a sample dataset to check the different featurizers."
      ],
      "metadata": {
        "id": "waFXnWbRniB0"
      }
    },
    {
      "cell_type": "markdown",
      "source": [
        "# Initialising Repository"
      ],
      "metadata": {
        "id": "Gmd3odhn94_D"
      }
    },
    {
      "cell_type": "code",
      "source": [
        "# This code is to be executed only when the runtime is created for the first time.\n",
        "!git clone https://github.com/akridata-ai/DE-image-featurizer.git\n",
        "%cd DE-image-featurizer  \n",
        "!git checkout develop\n",
        "!git init\n"
      ],
      "metadata": {
        "id": "9cbzwcdZmVrO",
        "colab": {
          "base_uri": "https://localhost:8080/"
        },
        "outputId": "e0b6fb47-a9cb-4306-b766-0894aa314b5c"
      },
      "execution_count": null,
      "outputs": [
        {
          "output_type": "stream",
          "name": "stdout",
          "text": [
            "Cloning into 'DE-image-featurizer'...\n",
            "remote: Enumerating objects: 174, done.\u001b[K\n",
            "remote: Counting objects: 100% (118/118), done.\u001b[K\n",
            "remote: Compressing objects: 100% (77/77), done.\u001b[K\n",
            "remote: Total 174 (delta 65), reused 66 (delta 39), pack-reused 56\u001b[K\n",
            "Receiving objects: 100% (174/174), 1.12 MiB | 10.53 MiB/s, done.\n",
            "Resolving deltas: 100% (82/82), done.\n",
            "/content/DE-image-featurizer\n",
            "Branch 'develop' set up to track remote branch 'develop' from 'origin'.\n",
            "Switched to a new branch 'develop'\n",
            "Reinitialized existing Git repository in /content/DE-image-featurizer/.git/\n"
          ]
        }
      ]
    },
    {
      "cell_type": "code",
      "source": [
        "#Changing the path to the de-image-featurizer directory\n",
        "import os\n",
        "path = os.path.abspath(os.path.join(os.getcwd(), 'DE-image-featurizer'))\n",
        "os.chdir(path)"
      ],
      "metadata": {
        "id": "G56RUqNqeBR8"
      },
      "execution_count": null,
      "outputs": []
    },
    {
      "cell_type": "markdown",
      "source": [
        "# Importing Libraries"
      ],
      "metadata": {
        "id": "tkv9yJwb-Lc1"
      }
    },
    {
      "cell_type": "code",
      "source": [
        "import numpy as np\n",
        "import time\n",
        "import pandas as pd\n",
        "import tensorflow as tf\n",
        "from evaluate.evaluator import ImageFeatureEvaluator\n",
        "import seaborn as sns\n",
        "import matplotlib.pyplot as plt\n",
        "from IPython.display import clear_output \n"
      ],
      "metadata": {
        "id": "vaVxsuDaAXGa"
      },
      "execution_count": null,
      "outputs": []
    },
    {
      "cell_type": "markdown",
      "source": [
        "# Dictionary of Featurizers"
      ],
      "metadata": {
        "id": "eTcdm4Wcht-t"
      }
    },
    {
      "cell_type": "code",
      "source": [
        "'''\n",
        "FEATURIZERS: A dictionary of featurizers containing both legacy and tf-hub based featurizers.\n",
        "             The values provided of each featurizer follow the sequence:\n",
        "              1. The key to differentiate each featurizer\n",
        "              2. The image size\n",
        "              3. The number of features to be extracted(specific to ORB and SIFT)\n",
        "              3. The edge and fast threshold specific to ORB featurizer.(Decrease these parameters if orb featurizer gives error) \n",
        "'''\n",
        "FEATURIZERS ={\n",
        "            'orb':['orb',(224,224),20,10,10],\n",
        "            'sift':['sift',(224,224),20],\n",
        "            'hog':['hog',(224,224)],\n",
        "            'lbp':['lbp',(224,224)],\n",
        "            'mobile_netV1':['https://tfhub.dev/google/imagenet/mobilenet_v1_100_224/feature_vector/5',(224,224)],\n",
        "            'mobile_netV2_192':['https://tfhub.dev/google/imagenet/mobilenet_v2_100_192/feature_vector/5',(192,192)],\n",
        "            'mobile_netV2_160':['https://tfhub.dev/google/imagenet/mobilenet_v2_100_160/feature_vector/5',(160,160)],\n",
        "            'mobile_netV2_96':['https://tfhub.dev/google/imagenet/mobilenet_v2_100_96/feature_vector/5',(96,96)],\n",
        "            'mobile_netV2_128':['https://tfhub.dev/google/imagenet/mobilenet_v2_100_128/feature_vector/5',(128,128)],\n",
        "            'mobile_netV3_small_224':['https://tfhub.dev/google/imagenet/mobilenet_v3_small_100_224/feature_vector/5',(224,224)],\n",
        "            'nasnet_mobile':['https://tfhub.dev/google/imagenet/nasnet_mobile/feature_vector/5',(224,224)],\n",
        "            'BiT':['https://tfhub.dev/google/bit/s-r50x1/1',(224,224)],\n",
        "            'InceptionV3_inatural':['https://tfhub.dev/google/inaturalist/inception_v3/feature_vector/5',(299,299)],\n",
        "            'EffiV2_imagenet':['https://tfhub.dev/google/imagenet/efficientnet_v2_imagenet1k_s/feature_vector/2',(384,384)],\n",
        "            'EffiV2_imagenet21k':['https://tfhub.dev/google/imagenet/efficientnet_v2_imagenet21k_xl/feature_vector/2',(512,512)]\n",
        "            }\n",
        "            \n"
      ],
      "metadata": {
        "id": "121btj-vEPFN"
      },
      "execution_count": null,
      "outputs": []
    },
    {
      "cell_type": "markdown",
      "source": [
        "# Comparator Class\n",
        "1. This class provides the functionality to create a comparator instance which provides compute-time and accuracy scores for different featurizers."
      ],
      "metadata": {
        "id": "eqH7YUrCHCfX"
      }
    },
    {
      "cell_type": "code",
      "source": [
        "\"\"\"\n",
        "Comparator class\n",
        "Provides the compute-time vs. accuracy statistics w.r.t different \n",
        "featurizers.\n",
        "\n",
        "\"\"\"\n",
        "class Comparator:\n",
        "    '''\n",
        "    Provides the functionality to compare different image featurizers using KNN accuracy scores.\n",
        "    1. The dataset is divided into train and test sets.\n",
        "    2. Features are computed using the featurizer provided.\n",
        "    3. Comparative analysis is shown on different numbers of reduced dimensions using PCA.\n",
        "\n",
        "    Parameters\n",
        "    -------------\n",
        "    data_dir: string\n",
        "        The path to the image dataset\n",
        "\n",
        "    splits: boolean, default=False\n",
        "        Whether the directory is further divided into train and test folders.\n",
        "\n",
        "    Attributes\n",
        "    ----------\n",
        "    accuracy: A dictionary containing featurizers and\n",
        "              their accuracy time.\n",
        "    compute_time: Dictionary containing time spent to evaluate\n",
        "                  featurizers.\n",
        "    results: Pandas `DataFrame` object.\n",
        "                Contains all the statistics w.r.t. to different featurizers\n",
        "    '''\n",
        "    def __init__(self,data_dir,splits):\n",
        "        \"\"\"\n",
        "        Constructor for the Comparator class\n",
        "        \"\"\"\n",
        "        self.data_dir = data_dir\n",
        "        self.splits = splits\n",
        "    def compute_time_and_accuracy(self):\n",
        "        '''\n",
        "        Method to calculate compute-time and accuracy.\n",
        "        '''\n",
        "        \n",
        "        self.compute_time = {}\n",
        "        self.accuracy = {}\n",
        "        for model in FEATURIZERS:\n",
        "            print(f'Evaluating using {model}')\n",
        "            start = time.process_time()\n",
        "            if model=='sift':\n",
        "                evaluator = ImageFeatureEvaluator(self.data_dir,FEATURIZERS[model][0],input_shape=FEATURIZERS[model][1],splits = self.splits,num_features=FEATURIZERS[model][2])\n",
        "            elif model=='orb':\n",
        "                evaluator =ImageFeatureEvaluator(self.data_dir,FEATURIZERS[model][0],input_shape=FEATURIZERS[model][1],splits=self.splits,num_features=FEATURIZERS[model][2],edgeThreshold=FEATURIZERS[model][3],fastThreshold=FEATURIZERS[model][4])\n",
        "            else:\n",
        "                evaluator = ImageFeatureEvaluator(self.data_dir,FEATURIZERS[model][0],input_shape=FEATURIZERS[model][1],splits = self.splits)\n",
        "            results = evaluator.evaluate()\n",
        "            self.compute_time[model] = time.process_time()-start\n",
        "            self.accuracy[model] = results.Test_Accuracy.max()\n",
        "\n",
        "    def plotting_func(self):\n",
        "        '''\n",
        "        Method to plot the compute-time vs accuracy graph.\n",
        "        '''\n",
        "\n",
        "        plt.figure(figsize = (10,10))\n",
        "        x = self.compute_time.values()\n",
        "        y = self.accuracy.values()\n",
        "        z = self.compute_time.keys()\n",
        "        sns.scatterplot(x=x, y=y,hue=z,style=z,size=z,s=500,palette='bright')\n",
        "        plt.xlabel(\"Compute time in seconds\")\n",
        "        plt.ylabel('Accuracy')\n",
        "        plt.title('Compute time Vs. Accuracy')\n",
        "        plt.show()\n",
        "\n",
        "    def evaluate_featurizers(self):\n",
        "        '''\n",
        "        Function to calculate the statistics related to different featurizers.\n",
        "        '''\n",
        "\n",
        "        self.compute_time_and_accuracy()\n",
        "        self.results = pd.DataFrame(self.accuracy.items(),columns=['Featurizer','Best_Testing_Accuracy'])"
      ],
      "metadata": {
        "id": "r1ECYBw1_fzd"
      },
      "execution_count": null,
      "outputs": []
    },
    {
      "cell_type": "markdown",
      "source": [
        "# Data Inputs"
      ],
      "metadata": {
        "id": "m4WAKeuiHQ49"
      }
    },
    {
      "cell_type": "markdown",
      "source": [
        "   Select the path to the dataset where the training and\n",
        "    testing set are divided as given below\n",
        "    \n",
        "    if splits==False\n",
        "\n",
        "        ```\n",
        "        main_directory/\n",
        "        ......class_a/\n",
        "        .........a_image1\n",
        "        .........a_img2\n",
        "        ......class_b/\n",
        "        .........b_img1\n",
        "        .........b_img2\n",
        "        ```\n",
        "    else\n",
        "\n",
        "        ```\n",
        "        main_directory/\n",
        "        ....train/\n",
        "        ......class_a/\n",
        "        .........a_image1\n",
        "        .........a_img2\n",
        "        ......class_b/\n",
        "        .........b_img1\n",
        "        .........b_img2\n",
        "        ....test/\n",
        "        ......class_a/\n",
        "        .........a_image1\n",
        "        .........a_img2\n",
        "        ......class_b/\n",
        "        .........b_img1\n",
        "        .........b_img2\n",
        "        ```"
      ],
      "metadata": {
        "id": "3u5DhUJNNuqn"
      }
    },
    {
      "cell_type": "code",
      "source": [
        "# An example dataset\n",
        "import pathlib\n",
        "dataset_url = \"https://storage.googleapis.com/download.tensorflow.org/example_images/flower_photos.tgz\"\n",
        "archive = tf.keras.utils.get_file(origin=dataset_url, extract=True)\n",
        "data_dir = pathlib.Path(archive).with_suffix('')"
      ],
      "metadata": {
        "colab": {
          "base_uri": "https://localhost:8080/"
        },
        "id": "G8R6s_rcdl0d",
        "outputId": "f148fca1-eab5-4a73-aa59-afa7b96062d7"
      },
      "execution_count": null,
      "outputs": [
        {
          "output_type": "stream",
          "name": "stdout",
          "text": [
            "Downloading data from https://storage.googleapis.com/download.tensorflow.org/example_images/flower_photos.tgz\n",
            "228813984/228813984 [==============================] - 1s 0us/step\n"
          ]
        }
      ]
    },
    {
      "cell_type": "code",
      "source": [
        "#@title Provide the path to the directory containing the training and testing images\n",
        "DATASET_PATH = data_dir #@param {type:\"string\"}\n",
        "#True if directory is further divided into folders\n",
        "SPLITS = False #@param {type:\"boolean\"}\n",
        "\n",
        "#Create the comparator\n",
        "comparator = Comparator(DATASET_PATH,SPLITS)\n",
        "comparator.evaluate_featurizers()\n",
        "\n",
        "clear_output()\n",
        "\n",
        "print(comparator.results)"
      ],
      "metadata": {
        "id": "8mBTmiJw-niI",
        "colab": {
          "base_uri": "https://localhost:8080/"
        },
        "outputId": "b1fb98b0-f52f-44cd-b639-e439d02d581f"
      },
      "execution_count": null,
      "outputs": [
        {
          "output_type": "stream",
          "name": "stdout",
          "text": [
            "                Featurizer  Best_Testing_Accuracy\n",
            "0                      orb               0.284741\n",
            "1                     sift               0.301090\n",
            "2                      hog               0.457766\n",
            "3                      lbp               0.460490\n",
            "4             mobile_netV1               0.900545\n",
            "5         mobile_netV2_192               0.878747\n",
            "6         mobile_netV2_160               0.882834\n",
            "7          mobile_netV2_96               0.855586\n",
            "8         mobile_netV2_128               0.882834\n",
            "9   mobile_netV3_small_224               0.878747\n",
            "10           nasnet_mobile               0.817439\n",
            "11                     BiT               0.905995\n",
            "12    InceptionV3_inatural               0.941417\n",
            "13         EffiV2_imagenet               0.900545\n",
            "14      EffiV2_imagenet21k               0.968665\n"
          ]
        }
      ]
    },
    {
      "cell_type": "markdown",
      "source": [
        "# Compute-time VS. Accuracy Plot"
      ],
      "metadata": {
        "id": "0Ib3A_pTCAtB"
      }
    },
    {
      "cell_type": "code",
      "source": [
        "#Plotting the compute-time Vs accuracy plot\n",
        "comparator.plotting_func()"
      ],
      "metadata": {
        "id": "3d_v_0QJMarD",
        "colab": {
          "base_uri": "https://localhost:8080/",
          "height": 621
        },
        "outputId": "6546763a-93b1-4d2e-9a52-e6fdd2a8f95e"
      },
      "execution_count": null,
      "outputs": [
        {
          "output_type": "display_data",
          "data": {
            "text/plain": [
              "<Figure size 720x720 with 1 Axes>"
            ],
            "image/png": "[encoded data removed]"
          },
          "metadata": {
            "needs_background": "light"
          }
        }
      ]
    }
  ]
}