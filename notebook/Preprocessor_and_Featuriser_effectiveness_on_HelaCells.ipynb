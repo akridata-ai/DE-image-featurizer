{
  "nbformat": 4,
  "nbformat_minor": 0,
  "metadata": {
    "colab": {
      "provenance": [],
      "collapsed_sections": [
        "MjoaxupMgWBa"
      ],
      "authorship_tag": "ABX9TyN7LjqERDMSNpELY/FKQU33",
      "include_colab_link": true
    },
    "kernelspec": {
      "name": "python3",
      "display_name": "Python 3"
    },
    "language_info": {
      "name": "python"
    }
  },
  "cells": [
    {
      "cell_type": "markdown",
      "metadata": {
        "id": "view-in-github",
        "colab_type": "text"
      },
      "source": [
        "<a href=\"https://colab.research.google.com/github/akridata-ai/DE-image-featurizer/blob/AKSW-12437-Preprocessor-featurizer-effectiveness/notebook/Preprocessor_and_Featuriser_effectiveness_on_HelaCells.ipynb\" target=\"_parent\"><img src=\"https://colab.research.google.com/assets/colab-badge.svg\" alt=\"Open In Colab\"/></a>"
      ]
    },
    {
      "cell_type": "markdown",
      "source": [
        "# Git Setup to run this notebook"
      ],
      "metadata": {
        "id": "ngHlmhZEZNmt"
      }
    },
    {
      "cell_type": "code",
      "source": [
        "%cd #add location where you want to clone this repo "
      ],
      "metadata": {
        "id": "fUW7aBi2g3As"
      },
      "execution_count": null,
      "outputs": []
    },
    {
      "cell_type": "code",
      "source": [
        "!git clone https://github.com/akridata-ai/DE-image-featurizer.git"
      ],
      "metadata": {
        "id": "O2Jsrp8aaEjt"
      },
      "execution_count": null,
      "outputs": []
    },
    {
      "cell_type": "code",
      "source": [
        "# get inside the repository\n",
        "%cd DE-image-featurizer  "
      ],
      "metadata": {
        "colab": {
          "base_uri": "https://localhost:8080/"
        },
        "id": "Ms_rbMULakGS",
        "outputId": "5e4fa3d4-e3dd-472e-87be-8a524d6a41d7"
      },
      "execution_count": null,
      "outputs": [
        {
          "output_type": "stream",
          "name": "stdout",
          "text": [
            "/content/DE-image-featurizer\n"
          ]
        }
      ]
    },
    {
      "cell_type": "code",
      "source": [
        "# checkout to the branch -- will change this to default one\n",
        "#!git checkout develop\n",
        "!git checkout develop"
      ],
      "metadata": {
        "id": "L08iVNHPa4y-"
      },
      "execution_count": null,
      "outputs": []
    },
    {
      "cell_type": "code",
      "source": [
        "#initialize git\n",
        "!git init"
      ],
      "metadata": {
        "id": "AWPQTGpWbPHz",
        "colab": {
          "base_uri": "https://localhost:8080/"
        },
        "outputId": "6d63802f-bf8f-430d-b7d4-80578069de03"
      },
      "execution_count": null,
      "outputs": [
        {
          "output_type": "stream",
          "name": "stdout",
          "text": [
            "Reinitialized existing Git repository in /content/DE-image-featurizer/.git/\n"
          ]
        }
      ]
    },
    {
      "cell_type": "markdown",
      "source": [
        "# Basic SetUp"
      ],
      "metadata": {
        "id": "O_w3GWN8gVOk"
      }
    },
    {
      "cell_type": "markdown",
      "source": [
        "## Imports"
      ],
      "metadata": {
        "id": "MjoaxupMgWBa"
      }
    },
    {
      "cell_type": "code",
      "source": [
        "%load_ext autoreload\n",
        "%autoreload 2"
      ],
      "metadata": {
        "id": "pUAEMhnmgaWw"
      },
      "execution_count": null,
      "outputs": []
    },
    {
      "cell_type": "code",
      "source": [
        "!pip install umap-learn\n",
        "!pip install Pillow==9.3.0\n",
        "!pip install protobuf==3.19.0"
      ],
      "metadata": {
        "id": "DVhO-51HBQgZ"
      },
      "execution_count": null,
      "outputs": []
    },
    {
      "cell_type": "code",
      "source": [
        "import pandas as pd\n",
        "import numpy as np\n",
        "import cv2\n",
        "import os\n",
        "from PIL import Image\n",
        "from sklearn.neighbors import KNeighborsClassifier\n",
        "from sklearn.neighbors import NearestNeighbors\n",
        "from sklearn.model_selection import train_test_split\n",
        "from umap import UMAP\n",
        "import umap\n",
        "import matplotlib.pyplot as plt\n",
        "import tensorflow as tf\n",
        "import tensorflow_hub as hub"
      ],
      "metadata": {
        "id": "yGN8G6HDglM9"
      },
      "execution_count": null,
      "outputs": []
    },
    {
      "cell_type": "code",
      "source": [
        "path = os.path.abspath(os.path.join(os.getcwd(), 'DE-image-featurizer','preprocess'))\n",
        "os.chdir(path)\n",
        "from preprocessors import PreProcessors"
      ],
      "metadata": {
        "id": "M1ZAnvzqggKl"
      },
      "execution_count": null,
      "outputs": []
    },
    {
      "cell_type": "code",
      "source": [
        "path = '../../notebook'\n",
        "os.chdir(path)"
      ],
      "metadata": {
        "id": "oZCqm0PP07l-"
      },
      "execution_count": null,
      "outputs": []
    },
    {
      "cell_type": "markdown",
      "source": [
        "## Get HelaCells Dataset"
      ],
      "metadata": {
        "id": "iJvKXvDXPorU"
      }
    },
    {
      "cell_type": "code",
      "source": [
        "!pip uninstall gdown -y && pip install gdown\n",
        "!gdown -V"
      ],
      "metadata": {
        "id": "uiFSljOw4xKM"
      },
      "execution_count": null,
      "outputs": []
    },
    {
      "cell_type": "code",
      "source": [
        "# create a directory to store all the data required\n",
        "!mkdir HeLa_Dataset"
      ],
      "metadata": {
        "id": "Ucnx4Y4xj28y"
      },
      "execution_count": null,
      "outputs": []
    },
    {
      "cell_type": "code",
      "source": [
        "# get HeLacells Data and unzip it\n",
        "!wget http://data.celltrackingchallenge.net/training-datasets/DIC-C2DH-HeLa.zip -P HeLa_Dataset\n",
        "!unzip HeLa_Dataset/DIC-C2DH-HeLa.zip -d HeLa_Dataset/"
      ],
      "metadata": {
        "id": "9wnM1XafPyqo"
      },
      "execution_count": null,
      "outputs": []
    },
    {
      "cell_type": "code",
      "source": [
        "# feature_file_Id = \"1Oi45aLx6U60kA1d4vd9o3fuT7OXrAhJ7\"\n",
        "!gdown --id 1Oi45aLx6U60kA1d4vd9o3fuT7OXrAhJ7\n",
        "!unzip helacell_features.npy.zip -d HeLa_Dataset/\n",
        "\n",
        "# label_link = \"1hG2z1OrEB17NgyYvK6TwTOqsm5gbhM_M\"\n",
        "!gdown --id 1hG2z1OrEB17NgyYvK6TwTOqsm5gbhM_M\n",
        "!unzip helacell.parquet.gzip.zip -d HeLa_Dataset/"
      ],
      "metadata": {
        "id": "pr88zmWe0aYw"
      },
      "execution_count": null,
      "outputs": []
    },
    {
      "cell_type": "markdown",
      "source": [
        "## Base Class"
      ],
      "metadata": {
        "id": "OdvkWA3ogNSh"
      }
    },
    {
      "cell_type": "code",
      "execution_count": null,
      "metadata": {
        "id": "k3VDhfe1I510"
      },
      "outputs": [],
      "source": [
        "class PreprocessorFeaturizer:\n",
        "  def __init__(self, labelled_Parquet_file_path = 'HeLa_Dataset/helacell.parquet.gzip', \n",
        "               mapping_dict = {0:'Deactivated Cells', 1:'Activated Cells'},\n",
        "               feature_file_path = 'HeLa_Dataset/helacell_features.npy', \n",
        "               img_root = 'HeLa_Dataset',\n",
        "               preprocess = False ,\n",
        "               preprocessor = None, \n",
        "               featurizer = \"https://tfhub.dev/google/imagenet/mobilenet_v2_050_224/feature_vector/5\", \n",
        "               size = 224,\n",
        "               classifier = 'knc', \n",
        "               neighbors = 10, \n",
        "               weights = 'distance',\n",
        "               train_size = 0.70,\n",
        "               random_state=10,\n",
        "               aug = True\n",
        "               ):\n",
        "    \"\"\"\n",
        "    Parameters\n",
        "    ----------\n",
        "    labelled_Parquet_file_path : str\n",
        "        path to parquet file which has path to images and labels associated \n",
        "    mapping_dict : dict\n",
        "        dictionary for mapping integer labels with string labels \n",
        "    img_root : str\n",
        "        path to save various files \n",
        "    preprocess : bool\n",
        "        default = True\n",
        "        if set True then image will be processed \n",
        "    preprocessor : list\n",
        "        default = None\n",
        "        preprocessor available in preprocessor module\n",
        "    featurizer : str\n",
        "        default = featurizer from tensorflow hub for feature extraction \n",
        "        featurizer for feature extraction\n",
        "    size : int\n",
        "        default = 224\n",
        "        size of the image\n",
        "    classifier : str\n",
        "        default = 'knc\n",
        "        algorithm for classification\n",
        "    neighbors : int\n",
        "        default = 10\n",
        "        Number of neighbors to use by default for kneighbors queries in KNeighborsClassifier\n",
        "    weights : str\n",
        "      {‘uniform’, ‘distance’}, default=’uniform’\n",
        "      Weight function used in prediction. Possible values:\n",
        "        ‘uniform’ : Same weights assigned to all points in the neighbourhood\n",
        "        ‘distance’ : weight points by the inverse of their distance. neighbors closer to the query point will have a greater influence than neighbors which are further away.\n",
        "    train_size : float\n",
        "      default = 0.70\n",
        "      Sould be between 0.0 to 0.1 and represents the percentage of data chosen for training\n",
        "    random_state : int\n",
        "      Controls the shuffling applied before data split\n",
        "    aug : bool\n",
        "      default = True\n",
        "      if set true data augmentation will be done\n",
        "    \n",
        "    \"\"\"\n",
        "    self.preprocess = preprocess\n",
        "    self.labelled_Parquet_file_path = labelled_Parquet_file_path\n",
        "    self.mapping_dict = mapping_dict\n",
        "    self.feature_file_path = feature_file_path\n",
        "    self.img_root = img_root\n",
        "    self.preprocessor = preprocessor\n",
        "    self.featurizer = featurizer\n",
        "    self.size = size\n",
        "    self.classifier = classifier\n",
        "    self.neighbors = neighbors\n",
        "    self.weights = weights\n",
        "    self.train_size = np.float16(train_size)\n",
        "    self.random_state = random_state\n",
        "    self.aug = aug\n",
        "\n",
        "    \n",
        "    img_arr,y_list = self.get_data()\n",
        "    if preprocess:\n",
        "      img_arr = self.preprocessed_image(img_arr=img_arr)\n",
        "    \n",
        "    features = self.get_features(img_arr)\n",
        "    self.save_files(features = features,y_list = y_list,img_arr = img_arr)\n",
        "    self.get_classification_score()\n",
        "\n",
        "\n",
        "\n",
        "\n",
        "  def get_data(self):\n",
        "    \"\"\"\n",
        "    function that takes parquet file path of the dataset which has path to images and associated labels and converts into image arrays and list of labels\n",
        "  \n",
        "    Returns\n",
        "    -------\n",
        "      img_arr : np.array\n",
        "          image arrays\n",
        "      y_list : list\n",
        "          list of labels\n",
        "    \"\"\"\n",
        "    df = pd.read_parquet(self.labelled_Parquet_file_path) \n",
        "    df['label_str'] = df.label.apply(lambda x: self.mapping_dict[x])\n",
        "\n",
        "    # loading features\n",
        "    features = np.load(self.feature_file_path)\n",
        "\n",
        "    def load_PIL_image(img_file):\n",
        "      \"\"\"\n",
        "        funtion that loads image file \n",
        "        Parameters\n",
        "        ----------\n",
        "        img_file : str\n",
        "            path to image file \n",
        "        \n",
        "        Returns\n",
        "        -------\n",
        "        An Image Object\n",
        "      \"\"\"\n",
        "      INPUT_SIZE = (self.size, self.size)     \n",
        "      with Image.open(os.path.join(self.img_root, img_file)).convert(\"L\") as img:\n",
        "          return img.resize(INPUT_SIZE, resample=Image.BICUBIC)\n",
        "     \n",
        "    df['image'] = df['scene'].apply(load_PIL_image)\n",
        "\n",
        "    def apply_augmentation(df):\n",
        "      \"\"\"\n",
        "        function for data augmentation with various types of transformations\n",
        "        Parameters\n",
        "        ----------\n",
        "        df : pandas dataframe\n",
        "          dataframe which consists of Image Objects \n",
        "        \n",
        "        Returns\n",
        "        -------\n",
        "        df : pandas dataframe\n",
        "          dataframe with augmentated images\n",
        "        transforms : dict\n",
        "          dictionary of transformations used for data augmentation\n",
        "      \"\"\"\n",
        "\n",
        "      transforms = {'flip_hor': lambda img: img.transpose(method=Image.Transpose.FLIP_LEFT_RIGHT),\n",
        "                'flip_ver': lambda img: img.transpose(method=Image.Transpose.FLIP_TOP_BOTTOM),\n",
        "                'rot_90': lambda img: img.transpose(method=Image.Transpose.ROTATE_90),\n",
        "                'rot_180': lambda img: img.transpose(method=Image.Transpose.ROTATE_180),\n",
        "                'rot_270': lambda img: img.transpose(method=Image.Transpose.ROTATE_270),}\n",
        "\n",
        "      for suffix, func in transforms.items():\n",
        "          df[f'image_{suffix}'] = df['image'].apply(func)\n",
        "      return df, transforms\n",
        "    \n",
        "\n",
        "    def get_img_arr_list(df, transforms=None):\n",
        "      \"\"\"\n",
        "        funtion that converts Image objects into image arrays\n",
        "        Parameters\n",
        "        ----------\n",
        "        df : pandas dataframe\n",
        "          dataframe which consists of Image Objects\n",
        "        transforms : str\n",
        "          if not None then dictionary of transformations used for data augmentation\n",
        "        \n",
        "        Returns\n",
        "        -------\n",
        "        img_arr : np.array\n",
        "          image arrays\n",
        "        y_list : list\n",
        "          list of labels\n",
        "      \"\"\"\n",
        "      y_list = []\n",
        "      img_arr_list = []\n",
        "\n",
        "      def df_col_to_arr(df, col):\n",
        "        if self.preprocess:\n",
        "          return df[col].apply(lambda pil_img: np.array(pil_img))\n",
        "        else:\n",
        "          return df[col].apply(lambda pil_img: np.array(pil_img)/255)\n",
        "\n",
        "      # For base images:\n",
        "      y_list.extend(df['label'].tolist())\n",
        "      img_arr_list.extend(df_col_to_arr(df, 'image').tolist())\n",
        "\n",
        "      if self.aug:\n",
        "        # For augmented images:\n",
        "        for col_suffix in transforms.keys():\n",
        "            y_list += df['label'].tolist()\n",
        "            img_arr_list += df_col_to_arr(df, 'image_'+col_suffix).tolist()\n",
        "\n",
        "      img_arr = np.array(img_arr_list)\n",
        "      return img_arr,y_list\n",
        "    if self.aug:\n",
        "      df, transforms = apply_augmentation(df)\n",
        "      img_arr,y_list = get_img_arr_list(df, transforms)\n",
        "    else:\n",
        "      img_arr,y_list = get_img_arr_list(df)\n",
        "    \n",
        "    img_arr = np.repeat(img_arr[..., np.newaxis], 3, -1)\n",
        "    return img_arr,y_list\n",
        "\n",
        "  def getfeaturizer(self):\n",
        "    \"\"\"\n",
        "      functions that loads featurizer from tensorflow_hub\n",
        "      Returns\n",
        "      -------\n",
        "      model : tensorflow object\n",
        "      \"\"\"\n",
        "    os.environ[\"TFHUB_MODEL_LOAD_FORMAT\"] = \"UNCOMPRESSED\"\n",
        "    \n",
        "    model = tf.keras.Sequential([\n",
        "      hub.KerasLayer(self.featurizer,\n",
        "                    trainable=False), \n",
        "      ])\n",
        "    model.build([None, self.size, self.size, 3])\n",
        "    return model\n",
        "\n",
        "  def get_features(self,img_arr):\n",
        "    \"\"\"\n",
        "      functions that extracts features from image array\n",
        "      Parameters\n",
        "      ----------\n",
        "      img_arr : numpy array\n",
        "        image array\n",
        "      \n",
        "      Returns\n",
        "      -------\n",
        "      features \n",
        "        feature vectors of images with featurzer trained on Imagenet\n",
        "      \"\"\"\n",
        "    model  = self.getfeaturizer()\n",
        "    features = model.predict(img_arr)\n",
        "    return features\n",
        "\n",
        "\n",
        "  def save_files(self,features,y_list,img_arr):\n",
        "    \"\"\"\n",
        "      functions that saves file \n",
        "      Parameters\n",
        "      ----------\n",
        "      features\n",
        "        feature vectors of images with featurzer trained on Imagenet\n",
        "      y_list : list\n",
        "        list of labels\n",
        "      img_arr : numpy array\n",
        "        image array\n",
        "      \"\"\"\n",
        "    np.save(os.path.join(self.img_root, 'aug_img_features.npy'), features)\n",
        "    np.save(os.path.join(self.img_root, 'aug_img_labels.npy'  ), np.array(y_list))\n",
        "    np.save(os.path.join(self.img_root, 'aug_images.npy'      ), img_arr)\n",
        "\n",
        "  def getclassifier(self,X_train, y_train,X_test, y_test):\n",
        "    \"\"\"\n",
        "      function that trains the classifier on training data and calculates score on unseen data\n",
        "      Parameters\n",
        "      ----------\n",
        "      X_train : numpy array\n",
        "        image array for training\n",
        "      y_train : list\n",
        "        list of labels for training images\n",
        "      X_test : numpy array\n",
        "        image array for testing/validating\n",
        "      y_test\n",
        "        list of labels for testing/validating\n",
        "        \n",
        "      Returns\n",
        "      -------\n",
        "      score : float\n",
        "      \"\"\"\n",
        "    if self.classifier == 'knc':\n",
        "      classifier = KNeighborsClassifier(n_neighbors=self.neighbors, weights=self.weights)\n",
        "    classifier.fit(X_train, y_train)\n",
        "    return classifier.score(X_test, y_test)\n",
        "\n",
        "  def getdatasplit(self, X,y):\n",
        "    \"\"\"\n",
        "      function that splits arrays into random train and test subsets\n",
        "      Parameters\n",
        "      ----------\n",
        "      X : numpy array\n",
        "        image array \n",
        "      y  : list\n",
        "        list of labels \n",
        "      \n",
        "      Returns\n",
        "      -------\n",
        "      X_train : numpy array\n",
        "        image array for training\n",
        "      y_train : list\n",
        "        list of labels for training images\n",
        "      X_test : numpy array\n",
        "        image array for testing/validating\n",
        "      y_test\n",
        "        list of labels for testing/validating\n",
        "    \"\"\"\n",
        "    X_train, y_train,X_test, y_test = train_test_split(X,y, train_size=self.train_size, random_state=self.random_state)\n",
        "    return X_train, y_train,X_test, y_test\n",
        "\n",
        "  def get_classification_score(self):\n",
        "    \"\"\"\n",
        "      function that loads image arrays and list of labels, prepares data for training and validating/testing and calculates score on unseen data\n",
        "    \"\"\"\n",
        "    X = np.load(os.path.join(self.img_root, 'aug_img_features.npy'))\n",
        "    y = np.load(os.path.join(self.img_root, 'aug_img_labels.npy'  ))\n",
        "    images = np.load(os.path.join(self.img_root, 'aug_images.npy' ))\n",
        "\n",
        "    X_train,X_test, y_train, y_test = self.getdatasplit(X=X,y=y)\n",
        "\n",
        "\n",
        "    from sklearn.decomposition import PCA\n",
        "    X_temp_train = PCA(n_components=.98).fit_transform(X_train)\n",
        "    self.getUMAPvisualization(X_temp_train,y_train)\n",
        "\n",
        "    score = self.getclassifier(X_train, y_train,X_test, y_test)\n",
        "    print(score)\n",
        "\n",
        "  def getUMAPvisualization(self,features,y_train):\n",
        "    \"\"\"\n",
        "      take reduced_data , apply embedding technique and plots map\n",
        "      Parameters\n",
        "      ----------\n",
        "      features \n",
        "        feature vector of images\n",
        "      y_train : array\n",
        "        labels \n",
        "    \"\"\"\n",
        "    mapper = UMAP()\n",
        "    embedding = mapper.fit_transform(features)\n",
        "\n",
        "    plt.rcParams['figure.figsize'] = (6,6)\n",
        "\n",
        "    labels = ['DeactivatedCells', 'ActivatedCells']\n",
        "    colors = ['r', 'g', 'b', 'c', 'm']\n",
        "    for i in set(y_train):\n",
        "        plt.scatter(*embedding[y_train == i].T,c=colors[i], s=10, label=labels[i])\n",
        "\n",
        "    plt.title(f'Umap embedding Processor {self.preprocessor} ')\n",
        "    plt.legend()\n",
        "  \n",
        "  def preprocessed_image(self, img_arr, cmap = 'Spectral_r'):  \n",
        "    \"\"\"\n",
        "      function that is used for preproocessing image arrays\n",
        "      Parameters\n",
        "      ----------\n",
        "      img_arr : numpy array\n",
        "        image array \n",
        "      cmap : str\n",
        "        colormaps in matplotlib\n",
        "      \n",
        "      Returns\n",
        "      -------\n",
        "      all_procesed_img_arr : numpy array\n",
        "        processsed image arrays \n",
        "    \"\"\"\n",
        "    from PIL import Image\n",
        "    prep_gamma = PreProcessors(getattr(PreProcessors, str(self.preprocessor[0])))\n",
        "    all_procesed_img_arr_gamma = [Image.fromarray(prep_gamma.fit_transform(img_arr[i][:,:,0], gamma=0.85)) for i in range(len(img_arr))]\n",
        "    all_procesed_img_arr = np.stack(all_procesed_img_arr_gamma)\n",
        "\n",
        "    prep_gamma = PreProcessors(getattr(PreProcessors, str(self.preprocessor[1])))\n",
        "    all_procesed_img_arr_col_map = [Image.fromarray(prep_gamma.fit_transform(all_procesed_img_arr[i] , cmap = cmap)) for i in range(len(all_procesed_img_arr))]\n",
        "    all_procesed_img_arr = np.stack(all_procesed_img_arr_col_map)\n",
        "\n",
        "    return all_procesed_img_arr/255\n",
        "    "
      ]
    },
    {
      "cell_type": "markdown",
      "source": [
        "# Preprocessor Effectiveness Demo\n",
        "- Improvement in Classification performance on applying preprocessor on HeLa - Dataset\n",
        "\n",
        "Case I: No Preprocessor Apllied\n",
        "\n",
        "Case II: Combination Of Preprocessors applied"
      ],
      "metadata": {
        "id": "r14kPrsa3vJE"
      }
    },
    {
      "cell_type": "code",
      "source": [
        "#Case I\n",
        "case_I = PreprocessorFeaturizer( preprocess = False ,\n",
        "                           preprocessor = None\n",
        ")\n",
        "                  "
      ],
      "metadata": {
        "colab": {
          "base_uri": "https://localhost:8080/",
          "height": 691
        },
        "id": "fhd2s9uB7WcG",
        "outputId": "43a224f1-eaab-401a-c312-db608ee7f18d"
      },
      "execution_count": null,
      "outputs": [
        {
          "output_type": "stream",
          "name": "stderr",
          "text": [
            "/var/folders/mq/wmysw9td2xb1l5pq1h814lyr0000gn/T/ipykernel_4753/1901984213.py:117: DeprecationWarning: BICUBIC is deprecated and will be removed in Pillow 10 (2023-07-01). Use Resampling.BICUBIC instead.\n",
            "  return img.resize(INPUT_SIZE, resample=Image.BICUBIC)\n"
          ]
        },
        {
          "output_type": "stream",
          "name": "stdout",
          "text": [
            "WARNING:tensorflow:Please fix your imports. Module tensorflow.python.training.tracking.data_structures has been moved to tensorflow.python.trackable.data_structures. The old module will be deleted in version 2.11.\n"
          ]
        },
        {
          "output_type": "stream",
          "name": "stderr",
          "text": [
            "2023-01-22 15:18:58.576308: W tensorflow/core/platform/cloud/google_auth_provider.cc:184] All attempts to get a Google authentication bearer token failed, returning an empty token. Retrieving token from files failed with \"NOT_FOUND: Could not locate the credentials file.\". Retrieving token from GCE failed with \"FAILED_PRECONDITION: Error executing an HTTP request: libcurl code 6 meaning 'Couldn't resolve host name', error details: Could not resolve host: metadata\".\n",
            "2023-01-22 15:19:11.638347: W tensorflow/core/platform/profile_utils/cpu_utils.cc:128] Failed to get CPU frequency: 0 Hz\n"
          ]
        },
        {
          "output_type": "stream",
          "name": "stdout",
          "text": [
            "32/32 [==============================] - 3s 80ms/step\n",
            "0.9273927392739274\n"
          ]
        },
        {
          "output_type": "display_data",
          "data": {
            "text/plain": [
              "<Figure size 600x600 with 1 Axes>"
            ],
            "image/png": "[encoded data removed]"
          },
          "metadata": {}
        }
      ]
    },
    {
      "cell_type": "code",
      "source": [
        "# Case II\n",
        "case_II = PreprocessorFeaturizer(preprocess = True ,\n",
        "                           preprocessor = ['GammaCorrection','ColorMapping']\n",
        "                          \n",
        "\n",
        "               )"
      ],
      "metadata": {
        "colab": {
          "base_uri": "https://localhost:8080/",
          "height": 617
        },
        "id": "WqgWhaRu8Sd2",
        "outputId": "888b1507-7161-423c-92fe-cf4408335b4e"
      },
      "execution_count": null,
      "outputs": [
        {
          "output_type": "stream",
          "name": "stderr",
          "text": [
            "/var/folders/mq/wmysw9td2xb1l5pq1h814lyr0000gn/T/ipykernel_4753/1901984213.py:117: DeprecationWarning: BICUBIC is deprecated and will be removed in Pillow 10 (2023-07-01). Use Resampling.BICUBIC instead.\n",
            "  return img.resize(INPUT_SIZE, resample=Image.BICUBIC)\n"
          ]
        },
        {
          "output_type": "stream",
          "name": "stdout",
          "text": [
            "32/32 [==============================] - 4s 109ms/step\n",
            "0.9504950495049505\n"
          ]
        },
        {
          "output_type": "display_data",
          "data": {
            "text/plain": [
              "<Figure size 600x600 with 1 Axes>"
            ],
            "image/png": "[encoded data removed]"
          },
          "metadata": {}
        }
      ]
    }
  ]
}